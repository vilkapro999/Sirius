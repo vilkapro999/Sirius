{
 "cells": [
  {
   "cell_type": "code",
   "id": "initial_id",
   "metadata": {
    "collapsed": true,
    "ExecuteTime": {
     "end_time": "2025-07-31T11:48:49.637641Z",
     "start_time": "2025-07-31T11:48:49.629528Z"
    }
   },
   "source": [
    "import pandas as pd\n",
    "import numpy as np\n",
    "import nltk\n",
    "from nltk.corpus import stopwords\n",
    "import pymorphy3\n",
    "import re\n",
    "#nltk.download('stopwords')"
   ],
   "outputs": [],
   "execution_count": 111
  },
  {
   "metadata": {
    "ExecuteTime": {
     "end_time": "2025-07-31T11:48:49.700184Z",
     "start_time": "2025-07-31T11:48:49.649152Z"
    }
   },
   "cell_type": "code",
   "source": [
    "data = pd.read_csv('task_data.csv')\n",
    "data = list(data['text'])\n",
    "data[:3]"
   ],
   "id": "1032ed108cf44193",
   "outputs": [
    {
     "data": {
      "text/plain": [
       "['Всё отлично, но для меня, как для любителя длинных вещей, немного коротковата толстовка. Но это не критично. В остальном сплошное удовольствие.',\n",
       " 'печать рисунка очень хорошая. боялась, что картинка маленькая будет, но все отлично. сама футболка довольно тонкая. размер соответствует. трек отслеживался. доставка быстрая. наверное закажу еще. спасибо продавцу.',\n",
       " 'очень короткая , рисунок тусклый , и в целом на фото е=не очень похоже .']"
      ]
     },
     "execution_count": 112,
     "metadata": {},
     "output_type": "execute_result"
    }
   ],
   "execution_count": 112
  },
  {
   "metadata": {
    "ExecuteTime": {
     "end_time": "2025-07-31T11:48:55.955023Z",
     "start_time": "2025-07-31T11:48:49.709071Z"
    }
   },
   "cell_type": "code",
   "source": [
    "stop_words = set(stopwords.words(\"russian\"))\n",
    "en_stopwords = set(stopwords.words(\"english\"))\n",
    "stop_words.update(en_stopwords)\n",
    "\n",
    "morph = pymorphy3.MorphAnalyzer()\n",
    "task_data = []\n",
    "symbols = '.,:;\"-+_!@#$%^&*()/r/n`№?*'\n",
    "for i in data:\n",
    "    i = i.lower().strip()\n",
    "    for j in symbols:\n",
    "        i = i.replace(j, ' ')\n",
    "    task_data.append([morph.parse(word)[0].normal_form for word in i.replace('ё', 'е').split() if word not in stop_words])\n",
    "\n",
    "task_data[34]"
   ],
   "id": "8586d9a661fe703d",
   "outputs": [
    {
     "data": {
      "text/plain": [
       "['ночнушко',\n",
       " 'отлично',\n",
       " 'выглядеть',\n",
       " 'приятный',\n",
       " 'тело',\n",
       " 'ткань',\n",
       " 'прозрачный',\n",
       " 'это',\n",
       " 'вкус',\n",
       " 'покупатель']"
      ]
     },
     "execution_count": 113,
     "metadata": {},
     "output_type": "execute_result"
    }
   ],
   "execution_count": 113
  },
  {
   "metadata": {
    "ExecuteTime": {
     "end_time": "2025-07-31T11:48:55.970397Z",
     "start_time": "2025-07-31T11:48:55.962252Z"
    }
   },
   "cell_type": "code",
   "source": "clothes = [\"платье\", \"платьишко\", \"пижама\", \"блузка\", \"блуза\", \"блузочка\", \"туника\", \"туничка\", \"костюм\", \"костюмчик\", \"футболочка\", \"футболка\", \"брюки\", \"брючки\", \"штаны\", \"штанишки\", \"топ\", \"сарафан\", \"сарафанчик\", \"сорочка\", \"джемпер\", \"джинсы\", \"джинсики\", \"куртка\", \"курточка\", \"юбка\", \"юбочка\", \"свитшот\", \"рубашка\", \"рубашечка\", \"купальник\", \"лонгслив\", \"лонг\", \"леггинс\", \"кофта\", \"кофточка\", \"худи\", \"толстовка\", \"толстовочка\", \"комбенизон\", \"комбез\", \"жакет\", \"кардиган\", \"свитер\", \"шорты\", \"шортики\", \"ветровка\", \"халат\", \"пуховик\", \"пальто\", \"пальтишко\", \"пиджак\", \"трус\", \"трусик\", \"бомбер\", \"водолазка\", \"плащ\", \"косуха\", 'майка', \"маечка\", \"боди\", \"велосипедки\", \"бриджи\", \"дубленка\", \"комбинезон\", \"комбез\", \"тренч\", \"тренчкот\", \"термобелье\", \"пуловер\", \"шуба\", \"бра\", \"водолазка\", \"бермуды\", \"жилет\", \"sweater\", \"jeans\", \"t-shirt\", \"носочек\", 'шарф', \"колготки\", \"лиф\", \"лифчик\", \"ночнушко\", \"шапка\", \"шапочка\", \"варежки\"]",
   "id": "1fe68337d6fffb0d",
   "outputs": [],
   "execution_count": 114
  },
  {
   "metadata": {
    "ExecuteTime": {
     "end_time": "2025-07-31T11:48:55.985388Z",
     "start_time": "2025-07-31T11:48:55.975316Z"
    }
   },
   "cell_type": "code",
   "source": "household_appliances = [\"фен\", \"вентилятор\", \"утюг\", \"пылесос\", \"миксер\", \"блендер\", \"соковыжималка\", \"отпариватель\", \"стиралка\", \"стиральная\", \"бритва\", \"триммер\", \"микроволновка\", \"печь\", \"электрочайник\", \"чайник\", \"термометр\", \"холодильник\", \"роутер\", \"адаптер\"]",
   "id": "49133037302464f8",
   "outputs": [],
   "execution_count": 115
  },
  {
   "metadata": {
    "ExecuteTime": {
     "end_time": "2025-07-31T11:48:56.000723Z",
     "start_time": "2025-07-31T11:48:55.989944Z"
    }
   },
   "cell_type": "code",
   "source": "shoes = [\"кроссовки\", \"туфли\", \"босоножки\", \"босоножка\", \"ботинок\", \"обувь\", \"сабо\"]",
   "id": "922a9a9d49d38583",
   "outputs": [],
   "execution_count": 116
  },
  {
   "metadata": {
    "ExecuteTime": {
     "end_time": "2025-07-31T11:48:56.016368Z",
     "start_time": "2025-07-31T11:48:56.006842Z"
    }
   },
   "cell_type": "code",
   "source": "dishes = [\"тарелка\", \"сервиз\", \"тарелочка\", \"кастрюля\", \"кастрюлечка\", \"посуда\", \"сковорода\", \"сковородка\", \"салатник\", \"кружка\"]",
   "id": "883e9cb3fd170390",
   "outputs": [],
   "execution_count": 117
  },
  {
   "metadata": {
    "ExecuteTime": {
     "end_time": "2025-07-31T11:48:56.031557Z",
     "start_time": "2025-07-31T11:48:56.023075Z"
    }
   },
   "cell_type": "code",
   "source": "textile = ['постельный', \"простыня\", \"простынка\", \"наволочка\", \"подушка\", \"подушечка\", \"скатерть\", \"полотенце\", \"плед\", \"пододеяльник\", \"одеяло\", \"прихватка\", \"коврик\", \"салфетки\", \"фартук\", \"ковер\", \"светильник\", \"лампа\", \"картина\"]",
   "id": "ca61cfb02612a1e7",
   "outputs": [],
   "execution_count": 118
  },
  {
   "metadata": {
    "ExecuteTime": {
     "end_time": "2025-07-31T11:48:56.047086Z",
     "start_time": "2025-07-31T11:48:56.036871Z"
    }
   },
   "cell_type": "code",
   "source": "goods_for_children = [\"подгузник\", \"соска\", \"пеленка\", \"смесь\"]",
   "id": "debe38323514654c",
   "outputs": [],
   "execution_count": 119
  },
  {
   "metadata": {
    "ExecuteTime": {
     "end_time": "2025-07-31T11:48:56.063066Z",
     "start_time": "2025-07-31T11:48:56.053655Z"
    }
   },
   "cell_type": "code",
   "source": "accessories = [\"аксессуар\", \"украшение\", \"брелок\", \"брелочек\", \"ободок\", \"серьга\", \"сережка\", \"кольцо\", \"колечко\", \"браслет\", \"очко\", \"ремень\", \"ремешок\"]",
   "id": "f5007a87dfe7aa58",
   "outputs": [],
   "execution_count": 120
  },
  {
   "metadata": {
    "ExecuteTime": {
     "end_time": "2025-07-31T11:48:56.078592Z",
     "start_time": "2025-07-31T11:48:56.069506Z"
    }
   },
   "cell_type": "code",
   "source": "electronics = [\"телефон\", \"планшет\", \"смартфон\", \"радио\", \"зарядка\", \"зарядник\", \"ноутбук\", \"компьютер\", \"камера\", \"видеокамера\", \"диск\", \"аккумулятор\", \"будильник\", \"наушник\", \"проектор\", \"экран\", \"монитор\", \"часы\", \"паяльник\"]",
   "id": "9b509a002978aee5",
   "outputs": [],
   "execution_count": 121
  },
  {
   "metadata": {
    "ExecuteTime": {
     "end_time": "2025-07-31T11:48:56.203845Z",
     "start_time": "2025-07-31T11:48:56.087081Z"
    }
   },
   "cell_type": "code",
   "source": [
    "categories = [[] for i in range(9094)]\n",
    "for i in range(len(task_data)):\n",
    "    for category in task_data[i]:\n",
    "        if category in clothes:\n",
    "            categories[i] = 'одежда'\n",
    "            break\n",
    "        elif category in household_appliances:\n",
    "            categories[i] = 'бытовая техника'\n",
    "            break\n",
    "        elif category in shoes:\n",
    "            categories[i] = 'обувь'\n",
    "            break\n",
    "        elif category in dishes:\n",
    "            categories[i] = 'посуда'\n",
    "            break\n",
    "        elif category in textile:\n",
    "            categories[i] = 'текстиль'\n",
    "            break\n",
    "        elif category in goods_for_children:\n",
    "            categories[i] = 'товары для детей'\n",
    "            break\n",
    "        elif category in accessories:\n",
    "            categories[i] = 'украшения и аксессуары'\n",
    "            break\n",
    "        elif category in electronics:\n",
    "            categories[i] = 'электроника'\n",
    "            break\n",
    "    if categories[i] == []:\n",
    "        categories[i] = 'нет товара'\n",
    "print(categories[:16])\n",
    "print(len(categories))\n",
    "\n",
    "\n",
    "\n"
   ],
   "id": "f1151713d7e85025",
   "outputs": [
    {
     "name": "stdout",
     "output_type": "stream",
     "text": [
      "['одежда', 'одежда', 'нет товара', 'одежда', 'одежда', 'одежда', 'нет товара', 'одежда', 'одежда', 'нет товара', 'нет товара', 'одежда', 'нет товара', 'нет товара', 'нет товара', 'украшения и аксессуары']\n",
      "9094\n"
     ]
    }
   ],
   "execution_count": 122
  },
  {
   "metadata": {
    "ExecuteTime": {
     "end_time": "2025-07-31T11:48:56.235254Z",
     "start_time": "2025-07-31T11:48:56.213433Z"
    }
   },
   "cell_type": "code",
   "source": [
    "import csv\n",
    "submission = pd.DataFrame(categories, columns=['categories'])\n",
    "submission.to_csv('submission.csv', sep='\\n', index=False, encoding='utf-8')"
   ],
   "id": "2326ac643250edd2",
   "outputs": [],
   "execution_count": 123
  }
 ],
 "metadata": {
  "kernelspec": {
   "display_name": "Python 3",
   "language": "python",
   "name": "python3"
  },
  "language_info": {
   "codemirror_mode": {
    "name": "ipython",
    "version": 2
   },
   "file_extension": ".py",
   "mimetype": "text/x-python",
   "name": "python",
   "nbconvert_exporter": "python",
   "pygments_lexer": "ipython2",
   "version": "2.7.6"
  }
 },
 "nbformat": 4,
 "nbformat_minor": 5
}
